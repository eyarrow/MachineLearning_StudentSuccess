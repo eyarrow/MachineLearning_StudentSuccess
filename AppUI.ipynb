{
 "cells": [
  {
   "cell_type": "markdown",
   "id": "ce8a4da0",
   "metadata": {},
   "source": [
    "# Student Performance Prediction"
   ]
  },
  {
   "cell_type": "markdown",
   "id": "15ffe176",
   "metadata": {},
   "source": [
    "Enter the data for the student you would like to predict the final grade for, and click the \"Run Prediction\" button below to view the results. "
   ]
  },
  {
   "cell_type": "code",
   "execution_count": 2,
   "id": "36a3e0dc",
   "metadata": {},
   "outputs": [],
   "source": [
    "import pandas as pd\n",
    "import numpy as np\n",
    "import matplotlib.pyplot as plt\n",
    "import sklearn\n",
    "from ipywidgets import interactive, interact\n",
    "import ipywidgets as widgets\n",
    "import pickle\n",
    "%matplotlib inline"
   ]
  },
  {
   "cell_type": "code",
   "execution_count": 3,
   "id": "6b465046",
   "metadata": {},
   "outputs": [],
   "source": [
    "from ipywidgets import Button, HBox, VBox"
   ]
  },
  {
   "cell_type": "code",
   "execution_count": 4,
   "id": "ab1322a7",
   "metadata": {},
   "outputs": [],
   "source": [
    "from ipywidgets import AppLayout, Button, Layout, GridspecLayout"
   ]
  },
  {
   "cell_type": "code",
   "execution_count": 5,
   "id": "405e5f60",
   "metadata": {},
   "outputs": [],
   "source": [
    "# Load the developed machine learning model\n",
    "loaded_model = pickle.load(open(\"stud_reg_rand_for.pkl\", \"rb\"))\n",
    "\n",
    "# Load Data\n",
    "student_data = pd.read_csv(\"student_prediction_CLEAN.csv\")\n",
    "grade_data = pd.read_csv(\"GRADE_MEAN_DATA.csv\")"
   ]
  },
  {
   "cell_type": "code",
   "execution_count": 1,
   "id": "8688a4a2",
   "metadata": {},
   "outputs": [
    {
     "name": "stderr",
     "output_type": "stream",
     "text": [
      "<>:94: SyntaxWarning: 'tuple' object is not callable; perhaps you missed a comma?\n",
      "<>:94: SyntaxWarning: 'tuple' object is not callable; perhaps you missed a comma?\n"
     ]
    },
    {
     "ename": "NameError",
     "evalue": "name 'widgets' is not defined",
     "output_type": "error",
     "traceback": [
      "\u001b[1;31m---------------------------------------------------------------------------\u001b[0m",
      "\u001b[1;31mNameError\u001b[0m                                 Traceback (most recent call last)",
      "\u001b[1;32m~\\AppData\\Local\\Temp/ipykernel_26432/1848852727.py\u001b[0m in \u001b[0;36m<module>\u001b[1;34m\u001b[0m\n\u001b[0;32m      1\u001b[0m \u001b[1;31m# Code for reported student data\u001b[0m\u001b[1;33m\u001b[0m\u001b[1;33m\u001b[0m\u001b[0m\n\u001b[0;32m      2\u001b[0m \u001b[1;33m\u001b[0m\u001b[0m\n\u001b[1;32m----> 3\u001b[1;33m Age_val = widgets.Dropdown(\n\u001b[0m\u001b[0;32m      4\u001b[0m             \u001b[0moptions\u001b[0m\u001b[1;33m=\u001b[0m\u001b[1;33m[\u001b[0m\u001b[1;33m(\u001b[0m\u001b[1;34m'18-21'\u001b[0m\u001b[1;33m,\u001b[0m \u001b[1;36m1\u001b[0m\u001b[1;33m)\u001b[0m\u001b[1;33m,\u001b[0m \u001b[1;33m(\u001b[0m\u001b[1;34m'22-25'\u001b[0m\u001b[1;33m,\u001b[0m \u001b[1;36m2\u001b[0m\u001b[1;33m)\u001b[0m\u001b[1;33m,\u001b[0m \u001b[1;33m(\u001b[0m\u001b[1;34m'above 26'\u001b[0m\u001b[1;33m,\u001b[0m \u001b[1;36m3\u001b[0m\u001b[1;33m)\u001b[0m\u001b[1;33m]\u001b[0m\u001b[1;33m,\u001b[0m\u001b[1;33m\u001b[0m\u001b[1;33m\u001b[0m\u001b[0m\n\u001b[0;32m      5\u001b[0m             \u001b[0mvalue\u001b[0m\u001b[1;33m=\u001b[0m\u001b[1;36m2\u001b[0m\u001b[1;33m,\u001b[0m\u001b[1;33m\u001b[0m\u001b[1;33m\u001b[0m\u001b[0m\n",
      "\u001b[1;31mNameError\u001b[0m: name 'widgets' is not defined"
     ]
    }
   ],
   "source": [
    "# Code for reported student data\n",
    "\n",
    "Age_val = widgets.Dropdown(\n",
    "            options=[('18-21', 1), ('22-25', 2), ('above 26', 3)],\n",
    "            value=2,\n",
    "            description='Age Range:',\n",
    "\n",
    "        )\n",
    "\n",
    "Gender_val = widgets.Dropdown(\n",
    "    options=[('Female', 1), ('Male', 2)],\n",
    "    value=1,\n",
    "    description='Gender:',\n",
    ")\n",
    "    \n",
    "HS_type = widgets.Dropdown(\n",
    "    options=[('Private', 1), ('Public', 2), ('Other', 3)],\n",
    "    value=2,\n",
    "    description='HS Type:',\n",
    ")\n",
    "\n",
    "Schol_type = widgets.Dropdown(\n",
    "            options=[\n",
    "                ('None', 1),\n",
    "                ('25%', 2),\n",
    "                ('50%', 3), ('75%', 4), ('100%', 5),\n",
    "                \n",
    "            ],\n",
    "            value=1,\n",
    "            \n",
    "        )\n",
    "\n",
    "Job_val = widgets.Dropdown(\n",
    "            options=[\n",
    "                ('Yes',1),\n",
    "                ('No',2),\n",
    "            ],\n",
    "            value=1,\n",
    "            \n",
    "        )\n",
    "    \n",
    "\n",
    "active_val = widgets.Dropdown(\n",
    "            options=[\n",
    "                ('Yes',1),\n",
    "                ('No',2),\n",
    "            ],\n",
    "            value=1,\n",
    "            \n",
    "        )\n",
    "\n",
    "Partner_val = widgets.Dropdown(\n",
    "            options=[\n",
    "                ('Yes',1),\n",
    "                ('No',2),\n",
    "            ],\n",
    "            value=1,\n",
    "            \n",
    "        )\n",
    "\n",
    "Transp_val = widgets.Dropdown(\n",
    "            options=[\n",
    "                ('Bus', 1),\n",
    "                ('Private Car / Taxi', 2),\n",
    "                ('Bicycle', 3), ('Other', 4),                 \n",
    "            ],\n",
    "            value=1,\n",
    "            \n",
    "        )\n",
    "\n",
    "Accom_val = widgets.Dropdown(\n",
    "            options=[\n",
    "                ('Rental', 1),\n",
    "                ('Student Housing / Dorm', 2),\n",
    "                ('With Family', 3), ('Other', 4),                 \n",
    "            ],\n",
    "            value=1,\n",
    "            \n",
    "        )\n",
    "\n",
    "Moth_ed_val = widgets.Dropdown(\n",
    "            options=[\n",
    "                ('Primary School', 1),\n",
    "                ('Secondary School', 2),\n",
    "                ('High School', 3), ('University Degree (Associate or Bachelors)', 4), \n",
    "                ('Masters Degree', 5), ('PhD', 6),\n",
    "            ],\n",
    "            value=1,\n",
    "            \n",
    "        )\n",
    "\n",
    "Num_sib_val = widgets.Dropdown(\n",
    "            options=[\n",
    "                ('0', 1)\n",
    "                ('1', 1),\n",
    "                ('2', 2),\n",
    "                ('3', 3), ('4', 4), \n",
    "                ('5 or above', 5), \n",
    "            ],\n",
    "            value=1,\n",
    "            \n",
    "        )\n",
    "\n",
    "Fath_ed_val = widgets.Dropdown(\n",
    "            options=[\n",
    "                ('Primary School', 1),\n",
    "                ('Secondary School', 2),\n",
    "                ('High School', 3), ('University Degree (Associate or Bachelors)', 4), \n",
    "                ('Masters Degree', 5), ('PhD', 6),\n",
    "            ],\n",
    "            value=1,\n",
    "            \n",
    "        )\n",
    "\n",
    "Parent_status_val = widgets.Dropdown(\n",
    "            options=[\n",
    "                ('Married', 1),\n",
    "                ('Divorced / Separated', 2),\n",
    "                ('Deceased (One or both)', 3), \n",
    "            ],\n",
    "            value=1,\n",
    "            \n",
    "        )\n",
    "\n",
    "Moth_occ_val = widgets.Dropdown(\n",
    "            options=[\n",
    "                ('Retired', 1),\n",
    "                ('Housewife', 2),\n",
    "                ('Government or Public Sector Employee', 3), ('Private Sector Employee', 4), \n",
    "                ('Self-Employed', 5), ('Other', 6),\n",
    "            ],\n",
    "            value=1,\n",
    "            \n",
    "        )\n",
    "\n",
    "Fath_occ_val = widgets.Dropdown(\n",
    "            options=[\n",
    "                ('Retired', 1),\n",
    "                ('Government or Public Sector Employee', 2),\n",
    "                ('Private Sector Employee', 3),  \n",
    "                ('Self-Employed', 4), ('Other', 5),\n",
    "            ],\n",
    "            value=1,\n",
    "            \n",
    "        )\n",
    "\n",
    "week_study_hours_val = widgets.Dropdown(\n",
    "            options=[\n",
    "                ('None', 1),\n",
    "                ('Less than 5 hours', 2),\n",
    "                ('6-10 Hours', 3),  \n",
    "                ('11-20 Hours', 4), ('More than 20 hours', 5),\n",
    "            ],\n",
    "            value=1,\n",
    "            \n",
    "        )\n",
    "\n",
    "read_freq_sci_val = widgets.Dropdown(\n",
    "            options=[\n",
    "                ('None', 1),\n",
    "                ('Sometimes', 2),\n",
    "                ('Often', 3),  \n",
    "            ],\n",
    "            value=1,\n",
    "            \n",
    "        )\n",
    "\n",
    "read_freq_nonsci_val = widgets.Dropdown(\n",
    "            options=[\n",
    "                ('None', 1),\n",
    "                ('Sometimes', 2),\n",
    "                ('Often', 3),  \n",
    "            ],\n",
    "            value=1,\n",
    "            \n",
    "        )\n",
    "\n",
    "sem_attend_val = widgets.Dropdown(\n",
    "            options=[\n",
    "                ('Yes', 1),\n",
    "                ('No', 2),\n",
    " \n",
    "            ],\n",
    "            value=1,\n",
    "            \n",
    "        )\n",
    "\n",
    "proj_impact_nonsci_val = widgets.Dropdown(\n",
    "            options=[\n",
    "                ('Positive', 1),\n",
    "                ('Negative', 2),\n",
    "                ('Neutral', 3),  \n",
    "            ],\n",
    "            value=1,\n",
    "            \n",
    "        )\n",
    "\n",
    "attendance_val = widgets.Dropdown(\n",
    "            options=[\n",
    "                ('Always', 1),\n",
    "                ('Sometimes', 2),\n",
    "                ('Never', 3),  \n",
    "            ],\n",
    "            value=1,\n",
    "            \n",
    "        )\n",
    "\n",
    "midterms_val = widgets.Dropdown(\n",
    "            options=[\n",
    "                ('Alone', 1),\n",
    "                ('With Friends', 2),\n",
    "                ('Not Applicable', 3),  \n",
    "            ],\n",
    "            value=1,\n",
    "            \n",
    "        )\n",
    "\n",
    "midterms_when_val = widgets.Dropdown(\n",
    "            options=[\n",
    "                ('Close to exam time', 1),\n",
    "                ('Throughout the term', 2),\n",
    "                ('Never', 3),  \n",
    "            ],\n",
    "            value=1,\n",
    "            \n",
    "        )\n",
    "\n",
    "notes_val = widgets.Dropdown(\n",
    "            options=[\n",
    "                ('Never', 1),\n",
    "                ('Sometimes', 2),\n",
    "                ('Always', 3),  \n",
    "            ],\n",
    "            value=1,\n",
    "            \n",
    "        )\n",
    "\n",
    "listening_val = widgets.Dropdown(\n",
    "            options=[\n",
    "                ('Never', 1),\n",
    "                ('Sometimes', 2),\n",
    "                ('Always', 3),  \n",
    "            ],\n",
    "            value=1,\n",
    "            \n",
    "        )\n",
    "\n",
    "description_val = widgets.Dropdown(\n",
    "            options=[\n",
    "                ('Never', 1),\n",
    "                ('Sometimes', 2),\n",
    "                ('Always', 3),   \n",
    "            ],\n",
    "            value=1,\n",
    "            \n",
    "        )\n",
    "\n",
    "cumulative_val = widgets.Dropdown(\n",
    "            options=[\n",
    "                 ('Less than 2.00', 1),\n",
    "                ('2.00 - 2.49', 2),\n",
    "                ('2.50 - 3.00', 3), \n",
    "                ('3.00 - 3.49', 4),\n",
    "                ('Above 3.49', 5),\n",
    "                 \n",
    "            ],\n",
    "            value=1,\n",
    "        \n",
    "        )\n",
    "\n",
    "expected_gpa_val = widgets.Dropdown(\n",
    "            options=[\n",
    "                 ('Less than 2.00', 1),\n",
    "                ('2.00 - 2.49', 2),\n",
    "                ('2.50 - 3.00', 3), \n",
    "                ('3.00 - 3.49', 4),\n",
    "                ('Above 3.49', 5),\n",
    "                 \n",
    "            ],\n",
    "            value=1,\n",
    "            \n",
    "        )\n",
    "\n",
    "course_id_val = widgets.Dropdown(\n",
    "            options=[\n",
    "                 ('MTH 251', 1),\n",
    "                ('MTH 230', 2),\n",
    "                ('MTH 252', 3), \n",
    "                ('CS 101', 4),\n",
    "                ('CS 150', 5),\n",
    "                ('CS 151', 6),\n",
    "                ('CS 152', 7),\n",
    "                ('CS 200', 8),\n",
    "                ('CS 201', 9),\n",
    "                 \n",
    "            ],\n",
    "            value=1,\n",
    "            \n",
    "        )"
   ]
  },
  {
   "cell_type": "code",
   "execution_count": 7,
   "id": "bb523b05",
   "metadata": {},
   "outputs": [],
   "source": [
    "# Create labels\n",
    "\n",
    "from ipywidgets import widgets\n",
    "\n",
    "# label definitions\n",
    "lblschol = widgets.Label(value='How much scholarship received?:')\n",
    "lbljob = widgets.Label(value='Do you have a job outside of school?')\n",
    "lbl_active = widgets.Label(value=\"Do you participate in regular artistic or sports activity?\")\n",
    "lbl_partner = widgets.Label(value=\"Do you have a partner?\")\n",
    "lbl_transport = widgets.Label(value=\"What kind of transportation do you use to get to school?\")\n",
    "lbl_accom = widgets.Label(value=\"Where do you live?\")\n",
    "lbl_moth_ed = widgets.Label(value=\"What was your mother's highest completed education level?\")\n",
    "lbl_fath_ed = widgets.Label(value=\"What was your father's highest completed education level?\")\n",
    "lbl_num_siblings = widgets.Label(value=\"Enter number of siblings (enter 1 if there are no siblings)?\")\n",
    "lbl_parental_status = widgets.Label(value=\"What is your parent's marital status?\")\n",
    "lbl_moth_occu = widgets.Label(value=\"What is your Mother's occupation?\")\n",
    "lbl_fath_occu = widgets.Label(value=\"What is your Father's occupation?\")\n",
    "lbl_study_hours = widgets.Label(value=\"How many hours do you typically study in a week?\")\n",
    "lbl_readfreq_non = widgets.Label(value=\"How many hours per week do you read non-scientific books & journals?\")\n",
    "lbl_readfreq_sci = widgets.Label(value=\"How many hours per week do you read scientific books & journals\")\n",
    "lbl_seminars = widgets.Label(value=\"Do you attend seminars and/or conferences held by your major's department?\")\n",
    "lbl_impact = widgets.Label(value=\"What kind of impact do you feel your projects/activities have on your academic success?\")\n",
    "lbl_attend = widgets.Label(value=\"How often do you attend classes?\")\n",
    "lbl_midterm_how = widgets.Label(value=\"How do you study for your midterms?\")\n",
    "lbl_midterm_when = widgets.Label(value=\"When do you start preparing for midterms?\")\n",
    "lbl_notes = widgets.Label(value=\"How often do you take notes in class?\")\n",
    "lbl_listening = widgets.Label(value=\"How often do you listen to class lectures?\")\n",
    "lbl_discussion = widgets.Label(value=\"Do you feel discussion improves your interest and success in courses?\")\n",
    "lbl_gpa = widgets.Label(value=\"What was your cumulative GPA in the last term you took classes?\")\n",
    "lbl_gpa_expected = widgets.Label(value=\"What do you expect your cumulative GPA will be by the time you graduate?\")\n",
    "lbl_course_id = widgets.Label(value=\"What is the course ID this was collected for?\")\n",
    "btn=widgets.Button(description=\"Run Prediction\")\n",
    "out = widgets.Output(layout={'border': '1px solid black'})\n",
    "\n"
   ]
  },
  {
   "cell_type": "code",
   "execution_count": 20,
   "id": "fab87550",
   "metadata": {},
   "outputs": [],
   "source": [
    "# prediction function\n",
    "def run_prediction(b):\n",
    "    out.clear_output()\n",
    "    x = np.array([int(Age_val.value),int(Gender_val.value),int(HS_type.value),int(Schol_type.value),int(Job_val.value),int(active_val.value),int(Partner_val.value),int(Transp_val.value),int(Accom_val.value),int(Moth_ed_val.value),int(Fath_ed_val.value),int(Num_sib_val.value),int(Parent_status_val.value),int(Moth_occ_val.value),int(Fath_occ_val.value),int(week_study_hours_val.value),int(read_freq_sci_val.value),int(read_freq_nonsci_val.value),int(sem_attend_val.value),int(proj_impact_nonsci_val.value),int(attendance_val.value),int(midterms_val.value),int(midterms_when_val.value),int(notes_val.value),int(listening_val.value),int(description_val.value),int(cumulative_val.value),int(expected_gpa_val.value),int(course_id_val.value)])\n",
    "    mod = x.reshape(1, -1)\n",
    "    prediction = loaded_model.predict(mod)\n",
    "    grade = float(prediction)\n",
    "    course_id = int(course_id_val.value)\n",
    "    letter_grade = return_grade(grade)\n",
    "    mean = calc_difference_from_mean(course_id)\n",
    "    with out:\n",
    "        print('Estimated final grade is ' + str(grade) + ' for a letter grade of ' + letter_grade + '.')\n",
    "        print('The mean grade for this course amongst all surveyed students is ' + str(mean) + '.')\n",
    "        \n",
    "def calc_difference_from_mean(course_id):\n",
    "    mean = 0\n",
    "    if course_id == 1:\n",
    "        mean = 2.2879\n",
    "    elif course_id == 2:\n",
    "        mean = 3\n",
    "    elif course_id == 3:\n",
    "        mean = 6.125\n",
    "    elif course_id == 4:\n",
    "        mean = 4.5\n",
    "    elif course_id == 5:\n",
    "        mean = 5.285714\n",
    "    elif course_id == 6:\n",
    "        mean = 5.875\n",
    "    elif course_id == 7:\n",
    "        mean = 6.333333\n",
    "    elif course_id == 8:\n",
    "        mean = 1.357143\n",
    "    else:\n",
    "        mean = 2.190476\n",
    "    \n",
    "    return mean\n",
    "\n",
    "\n",
    "def return_grade(grade):\n",
    "    if grade < 1:\n",
    "        letter_grade = 'F'\n",
    "    elif grade > 1 and grade < 2:\n",
    "        letter_grade = 'D'\n",
    "    elif grade > 2 and grade < 3:\n",
    "        letter_grade = 'C-'\n",
    "    elif grade > 3 and grade < 4:\n",
    "        letter_grade = 'C'\n",
    "    elif grade > 4 and grade < 5:\n",
    "        letter_grade = 'B-'\n",
    "    elif grade > 5 and grade < 6:\n",
    "        letter_grade = 'B'\n",
    "    elif grade > 6 and grade < 7:\n",
    "        letter_grade = 'A-'\n",
    "    else:\n",
    "        letter_grade = 'A'\n",
    "        \n",
    "    return letter_grade\n",
    "        \n",
    "     \n",
    "        \n",
    "\n",
    "    \n",
    "        "
   ]
  },
  {
   "cell_type": "code",
   "execution_count": 34,
   "id": "97bf1548",
   "metadata": {},
   "outputs": [
    {
     "data": {
      "application/vnd.jupyter.widget-view+json": {
       "model_id": "7a6f5a0a8932434295f1f888eca562fe",
       "version_major": 2,
       "version_minor": 0
      },
      "text/plain": [
       "Dropdown(description='Age Range:', index=1, options=(('18-21', 1), ('22-25', 2), ('above 26', 3)), value=2)"
      ]
     },
     "metadata": {},
     "output_type": "display_data"
    },
    {
     "data": {
      "application/vnd.jupyter.widget-view+json": {
       "model_id": "09a55b65a306453c80c56d6ec44833f4",
       "version_major": 2,
       "version_minor": 0
      },
      "text/plain": [
       "Dropdown(description='Gender:', options=(('Female', 1), ('Male', 2)), value=1)"
      ]
     },
     "metadata": {},
     "output_type": "display_data"
    },
    {
     "data": {
      "application/vnd.jupyter.widget-view+json": {
       "model_id": "e23d53f6e49048c3844cdc3afeb4019e",
       "version_major": 2,
       "version_minor": 0
      },
      "text/plain": [
       "Dropdown(description='HS Type:', index=1, options=(('Private', 1), ('Public', 2), ('Other', 3)), value=2)"
      ]
     },
     "metadata": {},
     "output_type": "display_data"
    },
    {
     "data": {
      "application/vnd.jupyter.widget-view+json": {
       "model_id": "c8f663d65fbb4a9f890ce33ff3e9c6ab",
       "version_major": 2,
       "version_minor": 0
      },
      "text/plain": [
       "Label(value='How much scholarship received?:')"
      ]
     },
     "metadata": {},
     "output_type": "display_data"
    },
    {
     "data": {
      "application/vnd.jupyter.widget-view+json": {
       "model_id": "007d0c47e71749e19141db59faa822c5",
       "version_major": 2,
       "version_minor": 0
      },
      "text/plain": [
       "Dropdown(options=(('None', 1), ('25%', 2), ('50%', 3), ('75%', 4), ('100%', 5)), value=1)"
      ]
     },
     "metadata": {},
     "output_type": "display_data"
    },
    {
     "data": {
      "application/vnd.jupyter.widget-view+json": {
       "model_id": "134df4a8646c40e68d1cd3064ee254ce",
       "version_major": 2,
       "version_minor": 0
      },
      "text/plain": [
       "Label(value='Do you have a job outside of school?')"
      ]
     },
     "metadata": {},
     "output_type": "display_data"
    },
    {
     "data": {
      "application/vnd.jupyter.widget-view+json": {
       "model_id": "1084f2004e1646108a5e9aef6c8f4f34",
       "version_major": 2,
       "version_minor": 0
      },
      "text/plain": [
       "Dropdown(options=(('Yes', 1), ('No', 2)), value=1)"
      ]
     },
     "metadata": {},
     "output_type": "display_data"
    },
    {
     "data": {
      "application/vnd.jupyter.widget-view+json": {
       "model_id": "4328bd7d7e3b40238139efcafc29c227",
       "version_major": 2,
       "version_minor": 0
      },
      "text/plain": [
       "Label(value='Do you participate in regular artistic or sports activity?')"
      ]
     },
     "metadata": {},
     "output_type": "display_data"
    },
    {
     "data": {
      "application/vnd.jupyter.widget-view+json": {
       "model_id": "2c82fcaaa1834718a99c8b9a74df0455",
       "version_major": 2,
       "version_minor": 0
      },
      "text/plain": [
       "Dropdown(options=(('Yes', 1), ('No', 2)), value=1)"
      ]
     },
     "metadata": {},
     "output_type": "display_data"
    },
    {
     "data": {
      "application/vnd.jupyter.widget-view+json": {
       "model_id": "d2b3ce805c444aada066db4a75d29cb9",
       "version_major": 2,
       "version_minor": 0
      },
      "text/plain": [
       "Label(value='Do you have a partner?')"
      ]
     },
     "metadata": {},
     "output_type": "display_data"
    },
    {
     "data": {
      "application/vnd.jupyter.widget-view+json": {
       "model_id": "7ca1781078424882b8680aeea0c5f922",
       "version_major": 2,
       "version_minor": 0
      },
      "text/plain": [
       "Dropdown(options=(('Yes', 1), ('No', 2)), value=1)"
      ]
     },
     "metadata": {},
     "output_type": "display_data"
    },
    {
     "data": {
      "application/vnd.jupyter.widget-view+json": {
       "model_id": "1e9e4cb1470f4648bcc0848996d914fc",
       "version_major": 2,
       "version_minor": 0
      },
      "text/plain": [
       "Label(value='What kind of transportation do you use to get to school?')"
      ]
     },
     "metadata": {},
     "output_type": "display_data"
    },
    {
     "data": {
      "application/vnd.jupyter.widget-view+json": {
       "model_id": "f92a59f948264cbaa6428c4759f9b8df",
       "version_major": 2,
       "version_minor": 0
      },
      "text/plain": [
       "Dropdown(options=(('Bus', 1), ('Private Car / Taxi', 2), ('Bicycle', 3), ('Other', 4)), value=1)"
      ]
     },
     "metadata": {},
     "output_type": "display_data"
    },
    {
     "data": {
      "application/vnd.jupyter.widget-view+json": {
       "model_id": "04a0d42bdd6f4c1f9a426594b1db90c5",
       "version_major": 2,
       "version_minor": 0
      },
      "text/plain": [
       "Label(value='Where do you live?')"
      ]
     },
     "metadata": {},
     "output_type": "display_data"
    },
    {
     "data": {
      "application/vnd.jupyter.widget-view+json": {
       "model_id": "3ad7e43a2c134d15beb45f72475f2b1b",
       "version_major": 2,
       "version_minor": 0
      },
      "text/plain": [
       "Dropdown(options=(('Rental', 1), ('Student Housing / Dorm', 2), ('With Family', 3), ('Other', 4)), value=1)"
      ]
     },
     "metadata": {},
     "output_type": "display_data"
    },
    {
     "data": {
      "application/vnd.jupyter.widget-view+json": {
       "model_id": "a9f34fedc47b4492918ed63acfe3e23c",
       "version_major": 2,
       "version_minor": 0
      },
      "text/plain": [
       "Label(value=\"What was your mother's highest completed education level?\")"
      ]
     },
     "metadata": {},
     "output_type": "display_data"
    },
    {
     "data": {
      "application/vnd.jupyter.widget-view+json": {
       "model_id": "706c7b7df2b84c0ebe5b347b71849bb3",
       "version_major": 2,
       "version_minor": 0
      },
      "text/plain": [
       "Dropdown(options=(('Primary School', 1), ('Secondary School', 2), ('High School', 3), ('University Degree (Ass…"
      ]
     },
     "metadata": {},
     "output_type": "display_data"
    },
    {
     "data": {
      "application/vnd.jupyter.widget-view+json": {
       "model_id": "ed3eeafc9a99484a87b4f455cc47cd95",
       "version_major": 2,
       "version_minor": 0
      },
      "text/plain": [
       "Label(value=\"What was your father's highest completed education level?\")"
      ]
     },
     "metadata": {},
     "output_type": "display_data"
    },
    {
     "data": {
      "application/vnd.jupyter.widget-view+json": {
       "model_id": "abac1ae715964039b52bc8ae4d04e757",
       "version_major": 2,
       "version_minor": 0
      },
      "text/plain": [
       "Dropdown(options=(('Primary School', 1), ('Secondary School', 2), ('High School', 3), ('University Degree (Ass…"
      ]
     },
     "metadata": {},
     "output_type": "display_data"
    },
    {
     "data": {
      "application/vnd.jupyter.widget-view+json": {
       "model_id": "79a0d5c6d6a440edb66bdf2ead460cdd",
       "version_major": 2,
       "version_minor": 0
      },
      "text/plain": [
       "Label(value='Enter number of siblings (enter 1 if there are no siblings)?')"
      ]
     },
     "metadata": {},
     "output_type": "display_data"
    },
    {
     "data": {
      "application/vnd.jupyter.widget-view+json": {
       "model_id": "7ecedb94fc64448f8045135c55c3c96f",
       "version_major": 2,
       "version_minor": 0
      },
      "text/plain": [
       "Dropdown(options=(('1', 1), ('2', 2), ('3', 3), ('4', 4), ('5 or above', 5)), value=1)"
      ]
     },
     "metadata": {},
     "output_type": "display_data"
    },
    {
     "data": {
      "application/vnd.jupyter.widget-view+json": {
       "model_id": "c7c8fd495c5249c4b767b1e0b7218ba1",
       "version_major": 2,
       "version_minor": 0
      },
      "text/plain": [
       "Label(value=\"What is your parent's marital status?\")"
      ]
     },
     "metadata": {},
     "output_type": "display_data"
    },
    {
     "data": {
      "application/vnd.jupyter.widget-view+json": {
       "model_id": "82087098d18f4cf1ba342946ab74e8bb",
       "version_major": 2,
       "version_minor": 0
      },
      "text/plain": [
       "Dropdown(options=(('Married', 1), ('Divorced / Separated', 2), ('Deceased (One or both)', 3)), value=1)"
      ]
     },
     "metadata": {},
     "output_type": "display_data"
    },
    {
     "data": {
      "application/vnd.jupyter.widget-view+json": {
       "model_id": "8fe2a5f454cd47c79f225bd5f82e4638",
       "version_major": 2,
       "version_minor": 0
      },
      "text/plain": [
       "Label(value=\"What is your Mother's occupation?\")"
      ]
     },
     "metadata": {},
     "output_type": "display_data"
    },
    {
     "data": {
      "application/vnd.jupyter.widget-view+json": {
       "model_id": "9096b2e53d1347529cafcd2410c4178b",
       "version_major": 2,
       "version_minor": 0
      },
      "text/plain": [
       "Dropdown(options=(('Retired', 1), ('Housewife', 2), ('Government or Public Sector Employee', 3), ('Private Sec…"
      ]
     },
     "metadata": {},
     "output_type": "display_data"
    },
    {
     "data": {
      "application/vnd.jupyter.widget-view+json": {
       "model_id": "369c08ca95ab4cc8a777db0723e8686a",
       "version_major": 2,
       "version_minor": 0
      },
      "text/plain": [
       "Label(value=\"What is your Father's occupation?\")"
      ]
     },
     "metadata": {},
     "output_type": "display_data"
    },
    {
     "data": {
      "application/vnd.jupyter.widget-view+json": {
       "model_id": "b134746ba8b64de3837c3ba75318dc2c",
       "version_major": 2,
       "version_minor": 0
      },
      "text/plain": [
       "Dropdown(options=(('Retired', 1), ('Government or Public Sector Employee', 2), ('Private Sector Employee', 3),…"
      ]
     },
     "metadata": {},
     "output_type": "display_data"
    },
    {
     "data": {
      "application/vnd.jupyter.widget-view+json": {
       "model_id": "81a2580986ac4370b8df3ca87ce4b67a",
       "version_major": 2,
       "version_minor": 0
      },
      "text/plain": [
       "Label(value='How many hours do you typically study in a week?')"
      ]
     },
     "metadata": {},
     "output_type": "display_data"
    },
    {
     "data": {
      "application/vnd.jupyter.widget-view+json": {
       "model_id": "a4efd874478c4fd2b2b99c3671a6be29",
       "version_major": 2,
       "version_minor": 0
      },
      "text/plain": [
       "Dropdown(options=(('None', 1), ('Less than 5 hours', 2), ('6-10 Hours', 3), ('11-20 Hours', 4), ('More than 20…"
      ]
     },
     "metadata": {},
     "output_type": "display_data"
    },
    {
     "data": {
      "application/vnd.jupyter.widget-view+json": {
       "model_id": "2c294f70e5654f29a3fcecc696f67935",
       "version_major": 2,
       "version_minor": 0
      },
      "text/plain": [
       "Label(value='How many hours per week do you read non-scientific books & journals?')"
      ]
     },
     "metadata": {},
     "output_type": "display_data"
    },
    {
     "data": {
      "application/vnd.jupyter.widget-view+json": {
       "model_id": "ed43993a806d4655a5e2ac9cf7275e71",
       "version_major": 2,
       "version_minor": 0
      },
      "text/plain": [
       "Dropdown(options=(('None', 1), ('Sometimes', 2), ('Often', 3)), value=1)"
      ]
     },
     "metadata": {},
     "output_type": "display_data"
    },
    {
     "data": {
      "application/vnd.jupyter.widget-view+json": {
       "model_id": "feb890ad5e1844e69317542d03e4e84f",
       "version_major": 2,
       "version_minor": 0
      },
      "text/plain": [
       "Label(value='How many hours per week do you read scientific books & journals')"
      ]
     },
     "metadata": {},
     "output_type": "display_data"
    },
    {
     "data": {
      "application/vnd.jupyter.widget-view+json": {
       "model_id": "aaa96ef2c42c4e48a37a923e57d49ba4",
       "version_major": 2,
       "version_minor": 0
      },
      "text/plain": [
       "Dropdown(options=(('None', 1), ('Sometimes', 2), ('Often', 3)), value=1)"
      ]
     },
     "metadata": {},
     "output_type": "display_data"
    },
    {
     "data": {
      "application/vnd.jupyter.widget-view+json": {
       "model_id": "3c4e5841523a432aa13e19755fe3fe16",
       "version_major": 2,
       "version_minor": 0
      },
      "text/plain": [
       "Label(value=\"Do you attend seminars and/or conferences held by your major's department?\")"
      ]
     },
     "metadata": {},
     "output_type": "display_data"
    },
    {
     "data": {
      "application/vnd.jupyter.widget-view+json": {
       "model_id": "2559431a083d42cda4b6ca9178db6914",
       "version_major": 2,
       "version_minor": 0
      },
      "text/plain": [
       "Dropdown(options=(('Yes', 1), ('No', 2)), value=1)"
      ]
     },
     "metadata": {},
     "output_type": "display_data"
    },
    {
     "data": {
      "application/vnd.jupyter.widget-view+json": {
       "model_id": "aa90aa948ed64262bd74cf743a900e52",
       "version_major": 2,
       "version_minor": 0
      },
      "text/plain": [
       "Label(value='What kind of impact do you feel your projects/activities have on your academic success?')"
      ]
     },
     "metadata": {},
     "output_type": "display_data"
    },
    {
     "data": {
      "application/vnd.jupyter.widget-view+json": {
       "model_id": "f0855ff8daf54632af240c6aa54f01e9",
       "version_major": 2,
       "version_minor": 0
      },
      "text/plain": [
       "Dropdown(options=(('Positive', 1), ('Negative', 2), ('Neutral', 3)), value=1)"
      ]
     },
     "metadata": {},
     "output_type": "display_data"
    },
    {
     "data": {
      "application/vnd.jupyter.widget-view+json": {
       "model_id": "d2cbd84ce9bf43d6a5feb58289cc7ab0",
       "version_major": 2,
       "version_minor": 0
      },
      "text/plain": [
       "Label(value='How often do you attend classes?')"
      ]
     },
     "metadata": {},
     "output_type": "display_data"
    },
    {
     "data": {
      "application/vnd.jupyter.widget-view+json": {
       "model_id": "7b3c15d1138f429ea2de44cc4fbb3294",
       "version_major": 2,
       "version_minor": 0
      },
      "text/plain": [
       "Dropdown(options=(('Always', 1), ('Sometimes', 2), ('Never', 3)), value=1)"
      ]
     },
     "metadata": {},
     "output_type": "display_data"
    },
    {
     "data": {
      "application/vnd.jupyter.widget-view+json": {
       "model_id": "5460693eea7647cbaf85bd774d6c18f6",
       "version_major": 2,
       "version_minor": 0
      },
      "text/plain": [
       "Label(value='How do you study for your midterms?')"
      ]
     },
     "metadata": {},
     "output_type": "display_data"
    },
    {
     "data": {
      "application/vnd.jupyter.widget-view+json": {
       "model_id": "9fcc91ea090b4a7b80257d2a656ce7cd",
       "version_major": 2,
       "version_minor": 0
      },
      "text/plain": [
       "Dropdown(options=(('Alone', 1), ('With Friends', 2), ('Not Applicable', 3)), value=1)"
      ]
     },
     "metadata": {},
     "output_type": "display_data"
    },
    {
     "data": {
      "application/vnd.jupyter.widget-view+json": {
       "model_id": "967eebd2273047819a5a1d295ff3b273",
       "version_major": 2,
       "version_minor": 0
      },
      "text/plain": [
       "Label(value='When do you start preparing for midterms?')"
      ]
     },
     "metadata": {},
     "output_type": "display_data"
    },
    {
     "data": {
      "application/vnd.jupyter.widget-view+json": {
       "model_id": "50331ff57aba424eaa3dfacca12a0bd1",
       "version_major": 2,
       "version_minor": 0
      },
      "text/plain": [
       "Dropdown(options=(('Close to exam time', 1), ('Throughout the term', 2), ('Never', 3)), value=1)"
      ]
     },
     "metadata": {},
     "output_type": "display_data"
    },
    {
     "data": {
      "application/vnd.jupyter.widget-view+json": {
       "model_id": "6404f13456bb4f328f267d0085fe8560",
       "version_major": 2,
       "version_minor": 0
      },
      "text/plain": [
       "Label(value='How often do you take notes in class?')"
      ]
     },
     "metadata": {},
     "output_type": "display_data"
    },
    {
     "data": {
      "application/vnd.jupyter.widget-view+json": {
       "model_id": "bdbc2c3f11394f7daba14c570d25ef2c",
       "version_major": 2,
       "version_minor": 0
      },
      "text/plain": [
       "Dropdown(options=(('Never', 1), ('Sometimes', 2), ('Always', 3)), value=1)"
      ]
     },
     "metadata": {},
     "output_type": "display_data"
    },
    {
     "data": {
      "application/vnd.jupyter.widget-view+json": {
       "model_id": "68a0c13d1ada42359d145370d9c3f4f0",
       "version_major": 2,
       "version_minor": 0
      },
      "text/plain": [
       "Label(value='How often do you listen to class lectures?')"
      ]
     },
     "metadata": {},
     "output_type": "display_data"
    },
    {
     "data": {
      "application/vnd.jupyter.widget-view+json": {
       "model_id": "29797856621141a3ba964d7b72ce7095",
       "version_major": 2,
       "version_minor": 0
      },
      "text/plain": [
       "Dropdown(options=(('Never', 1), ('Sometimes', 2), ('Always', 3)), value=1)"
      ]
     },
     "metadata": {},
     "output_type": "display_data"
    },
    {
     "data": {
      "application/vnd.jupyter.widget-view+json": {
       "model_id": "375ec283abc74a4880481e25d8d4748f",
       "version_major": 2,
       "version_minor": 0
      },
      "text/plain": [
       "Label(value='Do you feel discussion improves your interest and success in courses?')"
      ]
     },
     "metadata": {},
     "output_type": "display_data"
    },
    {
     "data": {
      "application/vnd.jupyter.widget-view+json": {
       "model_id": "c491da55962943deace1f723235bd221",
       "version_major": 2,
       "version_minor": 0
      },
      "text/plain": [
       "Dropdown(options=(('Never', 1), ('Sometimes', 2), ('Always', 3)), value=1)"
      ]
     },
     "metadata": {},
     "output_type": "display_data"
    },
    {
     "data": {
      "application/vnd.jupyter.widget-view+json": {
       "model_id": "64b63b0b8c6f44be9da7f6fc95257593",
       "version_major": 2,
       "version_minor": 0
      },
      "text/plain": [
       "Label(value='What was your cumulative GPA in the last term you took classes?')"
      ]
     },
     "metadata": {},
     "output_type": "display_data"
    },
    {
     "data": {
      "application/vnd.jupyter.widget-view+json": {
       "model_id": "07bd61fb9336400786b0468d6653b56f",
       "version_major": 2,
       "version_minor": 0
      },
      "text/plain": [
       "Dropdown(options=(('Less than 2.00', 1), ('2.00 - 2.49', 2), ('2.50 - 3.00', 3), ('3.00 - 3.49', 4), ('Above 3…"
      ]
     },
     "metadata": {},
     "output_type": "display_data"
    },
    {
     "data": {
      "application/vnd.jupyter.widget-view+json": {
       "model_id": "b5f770d1ace642d1803731fcfdb7225e",
       "version_major": 2,
       "version_minor": 0
      },
      "text/plain": [
       "Label(value='What do you expect your cumulative GPA will be by the time you graduate?')"
      ]
     },
     "metadata": {},
     "output_type": "display_data"
    },
    {
     "data": {
      "application/vnd.jupyter.widget-view+json": {
       "model_id": "c5b9963414fa467ebc3689d4827cac8f",
       "version_major": 2,
       "version_minor": 0
      },
      "text/plain": [
       "Dropdown(options=(('Less than 2.00', 1), ('2.00 - 2.49', 2), ('2.50 - 3.00', 3), ('3.00 - 3.49', 4), ('Above 3…"
      ]
     },
     "metadata": {},
     "output_type": "display_data"
    },
    {
     "data": {
      "application/vnd.jupyter.widget-view+json": {
       "model_id": "4e648d67cb37409380127bed74f2e03c",
       "version_major": 2,
       "version_minor": 0
      },
      "text/plain": [
       "Label(value='What is the course ID this was collected for?')"
      ]
     },
     "metadata": {},
     "output_type": "display_data"
    },
    {
     "data": {
      "application/vnd.jupyter.widget-view+json": {
       "model_id": "f9ca8e28e2134c0585ae805b9eb4039b",
       "version_major": 2,
       "version_minor": 0
      },
      "text/plain": [
       "Dropdown(index=1, options=(('MTH 251', 1), ('MTH 230', 2), ('MTH 252', 3), ('CS 101', 4), ('CS 150', 5), ('CS …"
      ]
     },
     "metadata": {},
     "output_type": "display_data"
    },
    {
     "data": {
      "application/vnd.jupyter.widget-view+json": {
       "model_id": "fa47600725ef46d2b19beb42e54fd4d1",
       "version_major": 2,
       "version_minor": 0
      },
      "text/plain": [
       "Button(description='Run Prediction', style=ButtonStyle())"
      ]
     },
     "metadata": {},
     "output_type": "display_data"
    },
    {
     "data": {
      "application/vnd.jupyter.widget-view+json": {
       "model_id": "592541df3d7d49769d4af2dec3e969ef",
       "version_major": 2,
       "version_minor": 0
      },
      "text/plain": [
       "Output(layout=Layout(border='1px solid black'), outputs=({'output_type': 'stream', 'text': 'Estimated final gr…"
      ]
     },
     "metadata": {},
     "output_type": "display_data"
    },
    {
     "name": "stderr",
     "output_type": "stream",
     "text": [
      "C:\\Users\\eyarr\\Dropbox\\WGU\\Term4\\Capstone\\Project\\env\\lib\\site-packages\\sklearn\\base.py:450: UserWarning: X does not have valid feature names, but RandomForestRegressor was fitted with feature names\n",
      "  warnings.warn(\n",
      "C:\\Users\\eyarr\\Dropbox\\WGU\\Term4\\Capstone\\Project\\env\\lib\\site-packages\\sklearn\\base.py:450: UserWarning: X does not have valid feature names, but RandomForestRegressor was fitted with feature names\n",
      "  warnings.warn(\n",
      "C:\\Users\\eyarr\\Dropbox\\WGU\\Term4\\Capstone\\Project\\env\\lib\\site-packages\\sklearn\\base.py:450: UserWarning: X does not have valid feature names, but RandomForestRegressor was fitted with feature names\n",
      "  warnings.warn(\n",
      "C:\\Users\\eyarr\\Dropbox\\WGU\\Term4\\Capstone\\Project\\env\\lib\\site-packages\\sklearn\\base.py:450: UserWarning: X does not have valid feature names, but RandomForestRegressor was fitted with feature names\n",
      "  warnings.warn(\n",
      "C:\\Users\\eyarr\\Dropbox\\WGU\\Term4\\Capstone\\Project\\env\\lib\\site-packages\\sklearn\\base.py:450: UserWarning: X does not have valid feature names, but RandomForestRegressor was fitted with feature names\n",
      "  warnings.warn(\n",
      "C:\\Users\\eyarr\\Dropbox\\WGU\\Term4\\Capstone\\Project\\env\\lib\\site-packages\\sklearn\\base.py:450: UserWarning: X does not have valid feature names, but RandomForestRegressor was fitted with feature names\n",
      "  warnings.warn(\n",
      "C:\\Users\\eyarr\\Dropbox\\WGU\\Term4\\Capstone\\Project\\env\\lib\\site-packages\\sklearn\\base.py:450: UserWarning: X does not have valid feature names, but RandomForestRegressor was fitted with feature names\n",
      "  warnings.warn(\n"
     ]
    }
   ],
   "source": [
    "#display form elements\n",
    "\n",
    "display(Age_val)\n",
    "display(Gender_val)\n",
    "display(HS_type)\n",
    "display(lblschol)\n",
    "display(Schol_type)\n",
    "display(lbljob)\n",
    "display(Job_val)\n",
    "display(lbl_active)\n",
    "display(active_val)\n",
    "display(lbl_partner)\n",
    "display(Partner_val)\n",
    "display(lbl_transport)\n",
    "display(Transp_val)\n",
    "display(lbl_accom)\n",
    "display(Accom_val)\n",
    "display(lbl_moth_ed)\n",
    "display(Moth_ed_val)\n",
    "display(lbl_fath_ed)\n",
    "display(Fath_ed_val)\n",
    "display(lbl_num_siblings)\n",
    "display(Num_sib_val)\n",
    "display(lbl_parental_status)\n",
    "display(Parent_status_val)\n",
    "display(lbl_moth_occu)\n",
    "display(Moth_occ_val)\n",
    "display(lbl_fath_occu)\n",
    "display(Fath_occ_val)\n",
    "display(lbl_study_hours)\n",
    "display(week_study_hours_val)\n",
    "display(lbl_readfreq_non)\n",
    "display(read_freq_nonsci_val)\n",
    "display(lbl_readfreq_sci)\n",
    "display(read_freq_sci_val)\n",
    "display(lbl_seminars)\n",
    "display(sem_attend_val)\n",
    "display(lbl_impact)\n",
    "display(proj_impact_nonsci_val)\n",
    "display(lbl_attend)\n",
    "display(attendance_val)\n",
    "display(lbl_midterm_how)\n",
    "display(midterms_val)\n",
    "display(lbl_midterm_when)\n",
    "display(midterms_when_val)\n",
    "display(lbl_notes)\n",
    "display(notes_val)\n",
    "display(lbl_listening)\n",
    "display(listening_val)\n",
    "display(lbl_discussion)\n",
    "display(description_val)\n",
    "display(lbl_gpa)\n",
    "display(cumulative_val)\n",
    "display(lbl_gpa_expected)\n",
    "display(expected_gpa_val)\n",
    "display(lbl_course_id)\n",
    "display(course_id_val)\n",
    "\n",
    "display(btn)\n",
    "display(out)\n",
    "\n",
    "\n",
    "btn.on_click(run_prediction)"
   ]
  },
  {
   "cell_type": "code",
   "execution_count": 36,
   "id": "a0e9cb78",
   "metadata": {},
   "outputs": [],
   "source": [
    "file = open(\"grade_distro_by_course.png\", \"rb\")\n",
    "image = file.read()\n",
    "grade_distro = widgets.Image(\n",
    "    value=image,\n",
    "    format='png',\n",
    "    width=600,\n",
    "    height=400,\n",
    ")"
   ]
  },
  {
   "cell_type": "code",
   "execution_count": 37,
   "id": "b70b5af7",
   "metadata": {},
   "outputs": [],
   "source": [
    "file = open(\"mean_grade_by_course.png\", \"rb\")\n",
    "image = file.read()\n",
    "mean_grade = widgets.Image(\n",
    "    value=image,\n",
    "    format='png',\n",
    "    width=600,\n",
    "    height=400,\n",
    ")"
   ]
  },
  {
   "cell_type": "markdown",
   "id": "a282c3d5",
   "metadata": {},
   "source": [
    "## Analysis\n"
   ]
  },
  {
   "cell_type": "markdown",
   "id": "55e885d1",
   "metadata": {},
   "source": [
    "**Figure 1** *Grade Distribution by Course ID*: Shows the distribution of grades across the nine courses surveyed. <br>\n",
    "**Figure 2** *Mean Grade by Course ID*: Describes the mean grades across all students, categorized by Course ID. "
   ]
  },
  {
   "cell_type": "code",
   "execution_count": 38,
   "id": "0c9dfacd",
   "metadata": {},
   "outputs": [
    {
     "data": {
      "application/vnd.jupyter.widget-view+json": {
       "model_id": "0457f57767984fec8228e0c3631e7b28",
       "version_major": 2,
       "version_minor": 0
      },
      "text/plain": [
       "HBox(children=(Image(value=b'\\x89PNG\\r\\n\\x1a\\n\\x00\\x00\\x00\\rIHDR\\x00\\x00\\x02\\xd0\\x00\\x00\\x01\\xb0\\x08\\x06\\x00\\x…"
      ]
     },
     "metadata": {},
     "output_type": "display_data"
    }
   ],
   "source": [
    "HBox([grade_distro, mean_grade])"
   ]
  },
  {
   "cell_type": "markdown",
   "id": "55aba6f3",
   "metadata": {},
   "source": [
    "**Figure 3** *Feature Distribution*: A visualization that charts the distribution of values for all features used in the model. "
   ]
  },
  {
   "cell_type": "code",
   "execution_count": 39,
   "id": "71f634d9",
   "metadata": {},
   "outputs": [
    {
     "data": {
      "image/png": "[encoded data removed]",
      "text/plain": [
       "<Figure size 720x2160 with 30 Axes>"
      ]
     },
     "metadata": {
      "needs_background": "light"
     },
     "output_type": "display_data"
    }
   ],
   "source": [
    "fig2 = student_data.plot.hist(title = '(Figure 3) Feature Distribution', figsize=(10, 30), subplots=True);"
   ]
  },
  {
   "cell_type": "code",
   "execution_count": null,
   "id": "9179220d",
   "metadata": {},
   "outputs": [],
   "source": []
  }
 ],
 "metadata": {
  "kernelspec": {
   "display_name": "Python 3 (ipykernel)",
   "language": "python",
   "name": "python3"
  },
  "language_info": {
   "codemirror_mode": {
    "name": "ipython",
    "version": 3
   },
   "file_extension": ".py",
   "mimetype": "text/x-python",
   "name": "python",
   "nbconvert_exporter": "python",
   "pygments_lexer": "ipython3",
   "version": "3.9.7"
  }
 },
 "nbformat": 4,
 "nbformat_minor": 5
}
